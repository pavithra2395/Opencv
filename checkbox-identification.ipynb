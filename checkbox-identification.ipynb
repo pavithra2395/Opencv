{
 "cells": [
  {
   "cell_type": "code",
   "execution_count": 3,
   "id": "b87189f4",
   "metadata": {},
   "outputs": [],
   "source": [
    "import cv2\n",
    "import numpy as np\n",
    "import fitz\n",
    "import os"
   ]
  },
  {
   "cell_type": "code",
   "execution_count": 11,
   "id": "2625b5b2",
   "metadata": {},
   "outputs": [],
   "source": [
    "def pdf_2_jpg(src_path,data_path,file_name):\n",
    "    # PDF to JPG\n",
    "    doc = fitz.open(src_path+file_name+'.pdf')\n",
    "        \n",
    "    #iterate through the pages of the document and create a RGB image of the page\n",
    "    for i in range(len(doc)):\n",
    "        pix = doc[i].get_pixmap()\n",
    "        pix.save(data_path+file_name+'/'+'page'+ str(i) +'.jpg')\n",
    "\n",
    "\n",
    "src_path = '/home/ppavithra/Desktop/notebook/Opencv-main/User-001/'\n",
    "data_path = '/home/ppavithra/Desktop/notebook/Opencv-main/User-001/'\n",
    "#files = [file for file in os.listdir(src_path) if '.pdf' in file]\n",
    "files = ['User-005.pdf']\n",
    "\n",
    "for file_name in files:\n",
    "    file_name = file_name.rsplit('.',1)[0]\n",
    "    try:\n",
    "        os.makedirs(data_path+file_name)\n",
    "    except:\n",
    "        print('folder already exist')\n",
    "\n",
    "    try:\n",
    "        os.makedirs(data_path+file_name+'/identified_box')\n",
    "    except:\n",
    "        print('folder already exist')\n",
    "\n",
    "    pdf_2_jpg(src_path,data_path,file_name)\n",
    "\n",
    "    ls = [file for file in os.listdir(data_path+file_name) if 'page' in file]\n",
    "    ls = sorted(ls)\n",
    "    for i in ls:\n",
    "        img = cv2.imread(data_path+file_name+'/'+i)\n",
    "        gray = cv2.cvtColor(img, cv2.COLOR_BGR2GRAY)\n",
    "        ret,thresh = cv2.threshold(gray,0,255,cv2.THRESH_BINARY_INV+cv2.THRESH_OTSU)\n",
    "        contours,hierarchy=cv2.findContours(thresh, cv2.RETR_LIST,\n",
    "                                    cv2.CHAIN_APPROX_NONE)\n",
    "\n",
    "        for cnt in contours :\n",
    "            area = cv2.contourArea(cnt)\n",
    "            # Shortlisting the regions based on there area.\n",
    "            approx = cv2.approxPolyDP(cnt, 0.1 * cv2.arcLength(cnt, True), True)\n",
    "            \n",
    "            # Checking if the no. of sides of the selected region is 4.\n",
    "            if (len(approx) == 4) and area>100 and area<35000:\n",
    "                cv2.drawContours(img, [approx], 0, (0, 255, 0), 1)\n",
    "            if (len(approx)<4) and area>1000 and area<35000:\n",
    "                (x, y, w, h) = cv2.boundingRect(approx)\n",
    "                cv2.rectangle(img,(x,y),(x+w,y+h),(0,255,0),1)\n",
    "                \n",
    "        cv2.imwrite(data_path+file_name+'/identified_box/'+i, img)\n"
   ]
  },
  {
   "cell_type": "code",
   "execution_count": 13,
   "id": "2be3be0d",
   "metadata": {
    "scrolled": true
   },
   "outputs": [
    {
     "name": "stdout",
     "output_type": "stream",
     "text": [
      "Collecting pytesseract\n",
      "  Using cached pytesseract-0.3.10-py3-none-any.whl (14 kB)\n",
      "Requirement already satisfied: packaging>=21.3 in /home/ppavithra/Desktop/notebook/jupyterenv/lib/python3.8/site-packages (from pytesseract) (21.3)\n",
      "Requirement already satisfied: Pillow>=8.0.0 in /home/ppavithra/Desktop/notebook/jupyterenv/lib/python3.8/site-packages (from pytesseract) (9.2.0)\n",
      "Requirement already satisfied: pyparsing!=3.0.5,>=2.0.2 in /home/ppavithra/Desktop/notebook/jupyterenv/lib/python3.8/site-packages (from packaging>=21.3->pytesseract) (3.0.9)\n",
      "Installing collected packages: pytesseract\n",
      "Successfully installed pytesseract-0.3.10\n"
     ]
    }
   ],
   "source": [
    "!pip install pytesseract"
   ]
  },
  {
   "cell_type": "code",
   "execution_count": null,
   "id": "e59b9aa4",
   "metadata": {},
   "outputs": [],
   "source": []
  },
  {
   "cell_type": "code",
   "execution_count": 19,
   "id": "1d6d5ab5",
   "metadata": {},
   "outputs": [
    {
     "ename": "PolicyError",
     "evalue": "attempt to perform an operation not allowed by the security policy `PDF' @ error/constitute.c/IsCoderAuthorized/408",
     "output_type": "error",
     "traceback": [
      "\u001b[0;31m---------------------------------------------------------------------------\u001b[0m",
      "\u001b[0;31mPolicyError\u001b[0m                               Traceback (most recent call last)",
      "Input \u001b[0;32mIn [19]\u001b[0m, in \u001b[0;36m<cell line: 11>\u001b[0;34m()\u001b[0m\n\u001b[1;32m      7\u001b[0m \u001b[38;5;28;01mfrom\u001b[39;00m \u001b[38;5;21;01mwand\u001b[39;00m\u001b[38;5;21;01m.\u001b[39;00m\u001b[38;5;21;01mimage\u001b[39;00m \u001b[38;5;28;01mimport\u001b[39;00m Image \u001b[38;5;28;01mas\u001b[39;00m wi\n\u001b[1;32m      8\u001b[0m \u001b[38;5;28;01mimport\u001b[39;00m \u001b[38;5;21;01msys\u001b[39;00m\n\u001b[0;32m---> 11\u001b[0m pdf \u001b[38;5;241m=\u001b[39m \u001b[43mwi\u001b[49m\u001b[43m(\u001b[49m\u001b[43mfilename\u001b[49m\u001b[38;5;241;43m=\u001b[39;49m\u001b[38;5;124;43m\"\u001b[39;49m\u001b[38;5;124;43mdoc.pdf\u001b[39;49m\u001b[38;5;124;43m\"\u001b[39;49m\u001b[43m,\u001b[49m\u001b[43m \u001b[49m\u001b[43mresolution\u001b[49m\u001b[38;5;241;43m=\u001b[39;49m\u001b[38;5;241;43m100\u001b[39;49m\u001b[43m)\u001b[49m\n\u001b[1;32m     12\u001b[0m pdfImg \u001b[38;5;241m=\u001b[39m pdf\u001b[38;5;241m.\u001b[39mconvert(\u001b[38;5;124m'\u001b[39m\u001b[38;5;124mjpg\u001b[39m\u001b[38;5;124m'\u001b[39m)\n\u001b[1;32m     13\u001b[0m j \u001b[38;5;241m=\u001b[39m \u001b[38;5;241m1\u001b[39m\n",
      "File \u001b[0;32m~/Desktop/notebook/jupyterenv/lib/python3.8/site-packages/wand/image.py:9326\u001b[0m, in \u001b[0;36mImage.__init__\u001b[0;34m(self, image, blob, file, filename, pseudo, background, colorspace, depth, extract, format, height, interlace, resolution, sampling_factors, units, width)\u001b[0m\n\u001b[1;32m   9324\u001b[0m     \u001b[38;5;28mself\u001b[39m\u001b[38;5;241m.\u001b[39mread(blob\u001b[38;5;241m=\u001b[39mblob)\n\u001b[1;32m   9325\u001b[0m \u001b[38;5;28;01melif\u001b[39;00m filename \u001b[38;5;129;01mis\u001b[39;00m \u001b[38;5;129;01mnot\u001b[39;00m \u001b[38;5;28;01mNone\u001b[39;00m:\n\u001b[0;32m-> 9326\u001b[0m     \u001b[38;5;28;43mself\u001b[39;49m\u001b[38;5;241;43m.\u001b[39;49m\u001b[43mread\u001b[49m\u001b[43m(\u001b[49m\u001b[43mfilename\u001b[49m\u001b[38;5;241;43m=\u001b[39;49m\u001b[43mfilename\u001b[49m\u001b[43m)\u001b[49m\n\u001b[1;32m   9327\u001b[0m \u001b[38;5;66;03m# clear the wand format, otherwise any subsequent call to\u001b[39;00m\n\u001b[1;32m   9328\u001b[0m \u001b[38;5;66;03m# MagickGetImageBlob will silently change the image to this\u001b[39;00m\n\u001b[1;32m   9329\u001b[0m \u001b[38;5;66;03m# format again.\u001b[39;00m\n\u001b[1;32m   9330\u001b[0m library\u001b[38;5;241m.\u001b[39mMagickSetFormat(\u001b[38;5;28mself\u001b[39m\u001b[38;5;241m.\u001b[39mwand, binary(\u001b[38;5;124m\"\u001b[39m\u001b[38;5;124m\"\u001b[39m))\n",
      "File \u001b[0;32m~/Desktop/notebook/jupyterenv/lib/python3.8/site-packages/wand/image.py:10075\u001b[0m, in \u001b[0;36mImage.read\u001b[0;34m(self, file, filename, blob, background, colorspace, depth, extract, format, height, interlace, resolution, sampling_factors, units, width)\u001b[0m\n\u001b[1;32m  10073\u001b[0m     r \u001b[38;5;241m=\u001b[39m library\u001b[38;5;241m.\u001b[39mMagickReadImage(\u001b[38;5;28mself\u001b[39m\u001b[38;5;241m.\u001b[39mwand, filename)\n\u001b[1;32m  10074\u001b[0m \u001b[38;5;28;01mif\u001b[39;00m \u001b[38;5;129;01mnot\u001b[39;00m r:\n\u001b[0;32m> 10075\u001b[0m     \u001b[38;5;28;43mself\u001b[39;49m\u001b[38;5;241;43m.\u001b[39;49m\u001b[43mraise_exception\u001b[49m\u001b[43m(\u001b[49m\u001b[43m)\u001b[49m\n\u001b[1;32m  10076\u001b[0m     msg \u001b[38;5;241m=\u001b[39m (\u001b[38;5;124m'\u001b[39m\u001b[38;5;124mMagickReadImage returns false, but did not raise \u001b[39m\u001b[38;5;124m'\u001b[39m\n\u001b[1;32m  10077\u001b[0m            \u001b[38;5;124m'\u001b[39m\u001b[38;5;124mImageMagick  exception. This can occur when a delegate \u001b[39m\u001b[38;5;124m'\u001b[39m\n\u001b[1;32m  10078\u001b[0m            \u001b[38;5;124m'\u001b[39m\u001b[38;5;124mis missing, or returns EXIT_SUCCESS without generating a \u001b[39m\u001b[38;5;124m'\u001b[39m\n\u001b[1;32m  10079\u001b[0m            \u001b[38;5;124m'\u001b[39m\u001b[38;5;124mraster.\u001b[39m\u001b[38;5;124m'\u001b[39m)\n\u001b[1;32m  10080\u001b[0m     \u001b[38;5;28;01mraise\u001b[39;00m WandRuntimeError(msg)\n",
      "File \u001b[0;32m~/Desktop/notebook/jupyterenv/lib/python3.8/site-packages/wand/resource.py:225\u001b[0m, in \u001b[0;36mResource.raise_exception\u001b[0;34m(self, stacklevel)\u001b[0m\n\u001b[1;32m    223\u001b[0m     warnings\u001b[38;5;241m.\u001b[39mwarn(e, stacklevel\u001b[38;5;241m=\u001b[39mstacklevel \u001b[38;5;241m+\u001b[39m \u001b[38;5;241m1\u001b[39m)\n\u001b[1;32m    224\u001b[0m \u001b[38;5;28;01melif\u001b[39;00m \u001b[38;5;28misinstance\u001b[39m(e, \u001b[38;5;167;01mException\u001b[39;00m):\n\u001b[0;32m--> 225\u001b[0m     \u001b[38;5;28;01mraise\u001b[39;00m e\n",
      "\u001b[0;31mPolicyError\u001b[0m: attempt to perform an operation not allowed by the security policy `PDF' @ error/constitute.c/IsCoderAuthorized/408"
     ]
    }
   ],
   "source": [
    "import io\n",
    "import cv2\n",
    "import numpy as np\n",
    "import pytesseract\n",
    "from PIL import Image\n",
    "from pytesseract import Output\n",
    "from wand.image import Image as wi\n",
    "import sys\n",
    "\n",
    "\n",
    "pdf = wi(filename=\"doc.pdf\", resolution=100)\n",
    "pdfImg = pdf.convert('jpg')\n",
    "j = 1\n",
    "imgBlobs = []\n",
    "img1= []\n",
    "for img in pdfImg.sequence:\n",
    "    page = wi(image=img)\n",
    "    page.save(filename=str(j)+\".jpg\")\n",
    "    img1.append(cv2.imread(str(j)+\".jpg\"))\n",
    "    j += 1\n",
    "\n",
    "extracted_text = []\n",
    "\n",
    "for img2 in img1:\n",
    "    d = pytesseract.image_to_data(img2, output_type=Output.DICT)\n",
    "    n_boxes = len(d['level'])\n",
    "    print(n_boxes)\n",
    "    extracted_text.append(d['text'][9])\n",
    "    (x, y, w, h) = (d['left'][9], d['top'][9], d['width'][9], d['height'][9])\n",
    "    cv2.rectangle(img2, (x, y), (x + w, y + h), (0, 255, 0), 2)\n",
    "\n",
    "\n",
    "    cv2.imshow('img', img2)\n",
    "\n",
    "    print(d)\n",
    "\n",
    "\n",
    "with open('Prototype.txt', 'w') as filehandle:\n",
    "        for listitem in extracted_text:\n",
    "            filehandle.write('%s\\n' % listitem)"
   ]
  },
  {
   "cell_type": "code",
   "execution_count": null,
   "id": "c6116166",
   "metadata": {},
   "outputs": [],
   "source": []
  }
 ],
 "metadata": {
  "kernelspec": {
   "display_name": "Python 3 (ipykernel)",
   "language": "python",
   "name": "python3"
  },
  "language_info": {
   "codemirror_mode": {
    "name": "ipython",
    "version": 3
   },
   "file_extension": ".py",
   "mimetype": "text/x-python",
   "name": "python",
   "nbconvert_exporter": "python",
   "pygments_lexer": "ipython3",
   "version": "3.8.10"
  }
 },
 "nbformat": 4,
 "nbformat_minor": 5
}
