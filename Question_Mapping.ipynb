{
 "cells": [
  {
   "cell_type": "code",
   "execution_count": 1,
   "id": "8bee9f0b",
   "metadata": {},
   "outputs": [
    {
     "name": "stdout",
     "output_type": "stream",
     "text": [
      "Requirement already satisfied: opencv-python in /home/ppavithra/Desktop/notebook/jupyterenv/lib/python3.8/site-packages (4.6.0.66)\n",
      "Requirement already satisfied: numpy>=1.14.5 in /home/ppavithra/Desktop/notebook/jupyterenv/lib/python3.8/site-packages (from opencv-python) (1.23.2)\n",
      "Requirement already satisfied: matplotlib in /home/ppavithra/Desktop/notebook/jupyterenv/lib/python3.8/site-packages (3.5.3)\n",
      "Requirement already satisfied: cycler>=0.10 in /home/ppavithra/Desktop/notebook/jupyterenv/lib/python3.8/site-packages (from matplotlib) (0.11.0)\n",
      "Requirement already satisfied: pillow>=6.2.0 in /home/ppavithra/Desktop/notebook/jupyterenv/lib/python3.8/site-packages (from matplotlib) (9.2.0)\n",
      "Requirement already satisfied: pyparsing>=2.2.1 in /home/ppavithra/Desktop/notebook/jupyterenv/lib/python3.8/site-packages (from matplotlib) (3.0.9)\n",
      "Requirement already satisfied: python-dateutil>=2.7 in /home/ppavithra/Desktop/notebook/jupyterenv/lib/python3.8/site-packages (from matplotlib) (2.8.2)\n",
      "Requirement already satisfied: kiwisolver>=1.0.1 in /home/ppavithra/Desktop/notebook/jupyterenv/lib/python3.8/site-packages (from matplotlib) (1.4.4)\n",
      "Requirement already satisfied: numpy>=1.17 in /home/ppavithra/Desktop/notebook/jupyterenv/lib/python3.8/site-packages (from matplotlib) (1.23.2)\n",
      "Requirement already satisfied: fonttools>=4.22.0 in /home/ppavithra/Desktop/notebook/jupyterenv/lib/python3.8/site-packages (from matplotlib) (4.37.1)\n",
      "Requirement already satisfied: packaging>=20.0 in /home/ppavithra/Desktop/notebook/jupyterenv/lib/python3.8/site-packages (from matplotlib) (21.3)\n",
      "Requirement already satisfied: six>=1.5 in /home/ppavithra/Desktop/notebook/jupyterenv/lib/python3.8/site-packages (from python-dateutil>=2.7->matplotlib) (1.16.0)\n",
      "Requirement already satisfied: numpy in /home/ppavithra/Desktop/notebook/jupyterenv/lib/python3.8/site-packages (1.23.2)\n",
      "Looking in links: https://download.pytorch.org/whl/torch_stable.html\n",
      "Requirement already satisfied: torch==1.7.1+cpu in /home/ppavithra/Desktop/notebook/jupyterenv/lib/python3.8/site-packages (1.7.1+cpu)\n",
      "Requirement already satisfied: torchvision==0.8.2+cpu in /home/ppavithra/Desktop/notebook/jupyterenv/lib/python3.8/site-packages (0.8.2+cpu)\n",
      "Requirement already satisfied: torchaudio===0.7.2 in /home/ppavithra/Desktop/notebook/jupyterenv/lib/python3.8/site-packages (0.7.2)\n",
      "Requirement already satisfied: numpy in /home/ppavithra/Desktop/notebook/jupyterenv/lib/python3.8/site-packages (from torch==1.7.1+cpu) (1.23.2)\n",
      "Requirement already satisfied: typing-extensions in /home/ppavithra/Desktop/notebook/jupyterenv/lib/python3.8/site-packages (from torch==1.7.1+cpu) (4.3.0)\n",
      "Requirement already satisfied: pillow>=4.1.1 in /home/ppavithra/Desktop/notebook/jupyterenv/lib/python3.8/site-packages (from torchvision==0.8.2+cpu) (9.2.0)\n",
      "Requirement already satisfied: easyocr in /home/ppavithra/Desktop/notebook/jupyterenv/lib/python3.8/site-packages (1.6.0)\n",
      "Requirement already satisfied: Shapely in /home/ppavithra/Desktop/notebook/jupyterenv/lib/python3.8/site-packages (from easyocr) (1.8.4)\n",
      "Requirement already satisfied: numpy in /home/ppavithra/Desktop/notebook/jupyterenv/lib/python3.8/site-packages (from easyocr) (1.23.2)\n",
      "Requirement already satisfied: torchvision>=0.5 in /home/ppavithra/Desktop/notebook/jupyterenv/lib/python3.8/site-packages (from easyocr) (0.8.2+cpu)\n",
      "Requirement already satisfied: opencv-python-headless<=4.5.4.60 in /home/ppavithra/Desktop/notebook/jupyterenv/lib/python3.8/site-packages (from easyocr) (4.5.4.60)\n",
      "Requirement already satisfied: torch in /home/ppavithra/Desktop/notebook/jupyterenv/lib/python3.8/site-packages (from easyocr) (1.7.1+cpu)\n",
      "Requirement already satisfied: scikit-image in /home/ppavithra/Desktop/notebook/jupyterenv/lib/python3.8/site-packages (from easyocr) (0.19.3)\n",
      "Requirement already satisfied: pyclipper in /home/ppavithra/Desktop/notebook/jupyterenv/lib/python3.8/site-packages (from easyocr) (1.3.0.post3)\n",
      "Requirement already satisfied: ninja in /home/ppavithra/Desktop/notebook/jupyterenv/lib/python3.8/site-packages (from easyocr) (1.10.2.3)\n",
      "Requirement already satisfied: Pillow in /home/ppavithra/Desktop/notebook/jupyterenv/lib/python3.8/site-packages (from easyocr) (9.2.0)\n",
      "Requirement already satisfied: PyYAML in /home/ppavithra/Desktop/notebook/jupyterenv/lib/python3.8/site-packages (from easyocr) (6.0)\n",
      "Requirement already satisfied: python-bidi in /home/ppavithra/Desktop/notebook/jupyterenv/lib/python3.8/site-packages (from easyocr) (0.4.2)\n",
      "Requirement already satisfied: scipy in /home/ppavithra/Desktop/notebook/jupyterenv/lib/python3.8/site-packages (from easyocr) (1.9.1)\n",
      "Requirement already satisfied: typing-extensions in /home/ppavithra/Desktop/notebook/jupyterenv/lib/python3.8/site-packages (from torch->easyocr) (4.3.0)\n",
      "Requirement already satisfied: six in /home/ppavithra/Desktop/notebook/jupyterenv/lib/python3.8/site-packages (from python-bidi->easyocr) (1.16.0)\n",
      "Requirement already satisfied: tifffile>=2019.7.26 in /home/ppavithra/Desktop/notebook/jupyterenv/lib/python3.8/site-packages (from scikit-image->easyocr) (2022.8.12)\n",
      "Requirement already satisfied: PyWavelets>=1.1.1 in /home/ppavithra/Desktop/notebook/jupyterenv/lib/python3.8/site-packages (from scikit-image->easyocr) (1.3.0)\n",
      "Requirement already satisfied: networkx>=2.2 in /home/ppavithra/Desktop/notebook/jupyterenv/lib/python3.8/site-packages (from scikit-image->easyocr) (2.8.6)\n",
      "Requirement already satisfied: packaging>=20.0 in /home/ppavithra/Desktop/notebook/jupyterenv/lib/python3.8/site-packages (from scikit-image->easyocr) (21.3)\n",
      "Requirement already satisfied: imageio>=2.4.1 in /home/ppavithra/Desktop/notebook/jupyterenv/lib/python3.8/site-packages (from scikit-image->easyocr) (2.21.2)\n",
      "Requirement already satisfied: pyparsing!=3.0.5,>=2.0.2 in /home/ppavithra/Desktop/notebook/jupyterenv/lib/python3.8/site-packages (from packaging>=20.0->scikit-image->easyocr) (3.0.9)\n"
     ]
    }
   ],
   "source": [
    "!pip install opencv-python\n",
    "!pip install matplotlib\n",
    "!pip install numpy\n",
    "!pip install torch==1.7.1+cpu torchvision==0.8.2+cpu torchaudio===0.7.2 -f https://download.pytorch.org/whl/torch_stable.html\n",
    "!pip install easyocr"
   ]
  },
  {
   "cell_type": "code",
   "execution_count": 2,
   "id": "72eddb62",
   "metadata": {},
   "outputs": [],
   "source": [
    "import cv2\n",
    "import imutils \n",
    "import numpy as np\n",
    "import cv2\n",
    "import numpy as np\n",
    "import easyocr\n",
    "import matplotlib.pyplot as plt\n",
    "%matplotlib inline"
   ]
  },
  {
   "cell_type": "markdown",
   "id": "07d94eb6",
   "metadata": {},
   "source": [
    "# Exctracting Questions"
   ]
  },
  {
   "cell_type": "code",
   "execution_count": 3,
   "id": "8baa198b",
   "metadata": {},
   "outputs": [
    {
     "name": "stdout",
     "output_type": "stream",
     "text": [
      "Requirement already satisfied: imutils in /home/ppavithra/Desktop/notebook/jupyterenv/lib/python3.8/site-packages (0.5.4)\r\n"
     ]
    }
   ],
   "source": [
    "!pip install imutils"
   ]
  },
  {
   "cell_type": "code",
   "execution_count": 7,
   "id": "eddd6f0e",
   "metadata": {},
   "outputs": [],
   "source": [
    "def recognize_text(img_path):\n",
    "    '''loads an image and recognizes text.'''\n",
    "    \n",
    "    reader = easyocr.Reader(['en'])\n",
    "    return reader.readtext(img_path, detail = 0)"
   ]
  },
  {
   "cell_type": "code",
   "execution_count": 8,
   "id": "e905d432",
   "metadata": {},
   "outputs": [],
   "source": [
    "Question_file = 'resized_imaged.jpg'\n",
    "Answer_file = 'resized_imaged.jpg'"
   ]
  },
  {
   "cell_type": "code",
   "execution_count": 9,
   "id": "bfbcbd5d",
   "metadata": {},
   "outputs": [
    {
     "name": "stderr",
     "output_type": "stream",
     "text": [
      "CUDA not available - defaulting to CPU. Note: This module is much faster with a GPU.\n"
     ]
    },
    {
     "data": {
      "text/plain": [
       "['For the nert questions- plense think about',\n",
       " 'highest level of education (high school diplona',\n",
       " 'Hucnona',\n",
       " 'certifcate degree;',\n",
       " 'Ir you attended graduate or protessional school. please think about',\n",
       " 'LUT',\n",
       " 'macclr',\n",
       " 'eercl',\n",
       " 'Sruna',\n",
       " 'Neulr',\n",
       " 'SLULg',\n",
       " '0iR2FL',\n",
       " '4016a2',\n",
       " 'Ten',\n",
       " '4mtt',\n",
       " 'Please rate Your level of agreement with the following statements:',\n",
       " 'My edlucation',\n",
       " 'W4s',\n",
       " 'worth the cost.',\n",
       " 'Mv elucalion',\n",
       " 'Myt',\n",
       " 'allraclive canclidlale',\n",
       " 'polenlial',\n",
       " 'emplayers_',\n",
       " 'My education helped me achieve my goals_',\n",
       " 'learned important skills while obtaining my education that',\n",
       " 'use in my',\n",
       " 'day-lo-day',\n",
       " 'Lile.',\n",
       " 'The courses',\n",
       " 'took while obtaining my education are directly relevant to',\n",
       " 'auka',\n",
       " 'work',\n",
       " 'My school',\n",
       " 'program',\n",
       " 'provided me with suppot to help me',\n",
       " 'learn ad be',\n",
       " 'successtul in my',\n",
       " 'casees',\n",
       " 'My school or program provicled mne with resources and support',\n",
       " 'job_',\n",
       " 'felt like part ot',\n",
       " 'community at my school where',\n",
       " 'obtained my education:',\n",
       " 'How important',\n",
       " 'Hert',\n",
       " 'each of the follo wing reasons for You',\n",
       " 'personally',\n",
       " 'Not rtrY',\n",
       " 'ameAnn',\n",
       " 'Harnelan',\n",
       " 'Munnci',\n",
       " 'ieihurisl',\n",
       " 'Weg MuI',\n",
       " 'IIAEMU',\n",
       " 'HAEEAAMI',\n",
       " 'deciding t0 pursue',\n",
       " 'education?',\n",
       " 'To be able',\n",
       " 'support myself and',\n",
       " 'family',\n",
       " 'To bc able',\n",
       " 'qualify for good jobs',\n",
       " 'To leamn new',\n",
       " 'things',\n",
       " 'To become the best person',\n",
       " 'To be',\n",
       " 'good',\n",
       " 'model',\n",
       " 'To make more',\n",
       " 'mOney',\n",
       " 'skills t0',\n",
       " 'suecesstul in work',\n",
       " 'To advance my',\n",
       " 'CaleCr',\n",
       " 'Please rate',\n",
       " 'level of agreement with the following statements.',\n",
       " 'My',\n",
       " 'Stonel',\n",
       " 'cter',\n",
       " 'FTL',\n",
       " 'Stoneh',\n",
       " 'edueation helped !ue',\n",
       " 'e m',\n",
       " 'MtrtErin:',\n",
       " 'Jr 47thnn7\"',\n",
       " 'CA4',\n",
       " 'Ann7 ',\n",
       " 'Be able t0 support myself and my family',\n",
       " 'Quality for good jobs',\n",
       " 'Lenrn neu',\n",
       " 'Become',\n",
       " 'nesi',\n",
       " 'DersOn',\n",
       " 'c4n be',\n",
       " 'Tole maclel',\n",
       " 'Make more money',\n",
       " 'Gain skills to be successful',\n",
       " 'work',\n",
       " 'Advunce',\n",
       " 'DatCtT',\n",
       " 'CmAmn',\n",
       " 'VLm;',\n",
       " 'Raneem',\n",
       " 'InrurT4fn-',\n",
       " 'Copyright',\n",
       " 'GiIn _',\n",
       " 'AIl Gchamrrvrd',\n",
       " 'Humr',\n",
       " 'cte',\n",
       " 'Lanot',\n",
       " 'gel',\n",
       " 'Rocd',\n",
       " 'Fuur',\n",
       " 'Tole',\n",
       " 'FAM',\n",
       " 'uur',\n",
       " 'things',\n",
       " 'g(xxd |']"
      ]
     },
     "execution_count": 9,
     "metadata": {},
     "output_type": "execute_result"
    }
   ],
   "source": [
    "result = recognize_text(Question_file)\n",
    "result"
   ]
  },
  {
   "cell_type": "code",
   "execution_count": 10,
   "id": "428c1ea4",
   "metadata": {},
   "outputs": [
    {
     "ename": "IndexError",
     "evalue": "list index out of range",
     "output_type": "error",
     "traceback": [
      "\u001b[0;31m---------------------------------------------------------------------------\u001b[0m",
      "\u001b[0;31mIndexError\u001b[0m                                Traceback (most recent call last)",
      "Input \u001b[0;32mIn [10]\u001b[0m, in \u001b[0;36m<cell line: 4>\u001b[0;34m()\u001b[0m\n\u001b[1;32m      8\u001b[0m         j\u001b[38;5;241m=\u001b[39mj\u001b[38;5;241m+\u001b[39m\u001b[38;5;241m1\u001b[39m\n\u001b[1;32m      9\u001b[0m     \u001b[38;5;28;01melse\u001b[39;00m:\n\u001b[1;32m     10\u001b[0m \u001b[38;5;66;03m#         print(j)\u001b[39;00m\n\u001b[0;32m---> 11\u001b[0m         Final_question[j\u001b[38;5;241m-\u001b[39m\u001b[38;5;241m1\u001b[39m] \u001b[38;5;241m=\u001b[39m\u001b[43mFinal_question\u001b[49m\u001b[43m[\u001b[49m\u001b[43mj\u001b[49m\u001b[38;5;241;43m-\u001b[39;49m\u001b[38;5;241;43m1\u001b[39;49m\u001b[43m]\u001b[49m\u001b[38;5;241m+\u001b[39m\u001b[38;5;124m'\u001b[39m\u001b[38;5;124m \u001b[39m\u001b[38;5;124m'\u001b[39m\u001b[38;5;241m+\u001b[39mresult[i]\n\u001b[1;32m     12\u001b[0m     i\u001b[38;5;241m=\u001b[39mi\u001b[38;5;241m+\u001b[39m\u001b[38;5;241m1\u001b[39m\n",
      "\u001b[0;31mIndexError\u001b[0m: list index out of range"
     ]
    }
   ],
   "source": [
    "Final_question =[]\n",
    "i =0\n",
    "j =0\n",
    "while (i<len(result)-2):\n",
    "    st = ''\n",
    "    if result[i].split('.')[0].isnumeric():\n",
    "        Final_question.append(result[i])\n",
    "        j=j+1\n",
    "    else:\n",
    "#         print(j)\n",
    "        Final_question[j-1] =Final_question[j-1]+' '+result[i]\n",
    "    i=i+1"
   ]
  },
  {
   "cell_type": "code",
   "execution_count": 11,
   "id": "287b96cd",
   "metadata": {},
   "outputs": [
    {
     "data": {
      "text/plain": [
       "[]"
      ]
     },
     "execution_count": 11,
     "metadata": {},
     "output_type": "execute_result"
    }
   ],
   "source": [
    "Final_question"
   ]
  },
  {
   "cell_type": "markdown",
   "id": "0a98a1df",
   "metadata": {},
   "source": [
    "# Extracting Answers"
   ]
  },
  {
   "cell_type": "code",
   "execution_count": 8,
   "id": "c07538bd",
   "metadata": {},
   "outputs": [],
   "source": [
    "img1 = cv2.imread(Question_file)\n",
    "img2 = cv2.imread(Answer_file)"
   ]
  },
  {
   "cell_type": "code",
   "execution_count": 9,
   "id": "b2222c36",
   "metadata": {},
   "outputs": [
    {
     "data": {
      "text/plain": [
       "(919, 937, 3)"
      ]
     },
     "execution_count": 9,
     "metadata": {},
     "output_type": "execute_result"
    }
   ],
   "source": [
    "img1.shape"
   ]
  },
  {
   "cell_type": "code",
   "execution_count": 10,
   "id": "b96a0024",
   "metadata": {},
   "outputs": [
    {
     "data": {
      "text/plain": [
       "(919, 937, 3)"
      ]
     },
     "execution_count": 10,
     "metadata": {},
     "output_type": "execute_result"
    }
   ],
   "source": [
    "img2.shape"
   ]
  },
  {
   "cell_type": "code",
   "execution_count": 11,
   "id": "ad2db494",
   "metadata": {},
   "outputs": [
    {
     "data": {
      "text/plain": [
       "True"
      ]
     },
     "execution_count": 11,
     "metadata": {},
     "output_type": "execute_result"
    }
   ],
   "source": [
    "# img1 = cv2.imread(\"checked.png\")\n",
    "# img2 = cv2.imread(\"without select.png\")\n",
    "diff = cv2.absdiff(img1, img2)\n",
    "mask = cv2.cvtColor(diff, cv2.COLOR_BGR2GRAY)\n",
    "th = 1\n",
    "imask =  mask>th\n",
    "\n",
    "result = np.zeros_like(img2, np.uint8)\n",
    "result[imask] = img2[imask]\n",
    "\n",
    "cv2.imwrite(\"result final.png\", diff)\n"
   ]
  },
  {
   "cell_type": "code",
   "execution_count": 12,
   "id": "7d8613e5",
   "metadata": {},
   "outputs": [
    {
     "data": {
      "text/plain": [
       "(919, 937, 3)"
      ]
     },
     "execution_count": 12,
     "metadata": {},
     "output_type": "execute_result"
    }
   ],
   "source": [
    "diff.shape"
   ]
  },
  {
   "cell_type": "code",
   "execution_count": 13,
   "id": "594294a4",
   "metadata": {},
   "outputs": [
    {
     "data": {
      "text/plain": [
       "<matplotlib.image.AxesImage at 0x7f6818764d30>"
      ]
     },
     "execution_count": 13,
     "metadata": {},
     "output_type": "execute_result"
    },
    {
     "data": {
      "image/png": "[encoded data removed]",
      "text/plain": [
       "<Figure size 640x480 with 1 Axes>"
      ]
     },
     "metadata": {},
     "output_type": "display_data"
    }
   ],
   "source": [
    "img_1 = cv2.cvtColor(diff, cv2.COLOR_BGR2RGB)\n",
    "plt.imshow(img_1)"
   ]
  },
  {
   "cell_type": "code",
   "execution_count": 14,
   "id": "0dcb5c79",
   "metadata": {},
   "outputs": [],
   "source": [
    "gray = cv2.cvtColor(diff, cv2.COLOR_BGR2GRAY)\n",
    "thresh = cv2.threshold(gray, 30, 255, cv2.THRESH_BINARY)[1]"
   ]
  },
  {
   "cell_type": "code",
   "execution_count": 15,
   "id": "69d9e130",
   "metadata": {},
   "outputs": [],
   "source": [
    "# find contours and get one with area about 180*35\n",
    "# draw all contours in green and accepted ones in red\n",
    "contours = cv2.findContours(thresh, cv2.RETR_TREE, cv2.CHAIN_APPROX_SIMPLE)\n",
    "contours = contours[0] if len(contours) == 2 else contours[1]\n",
    "#area_thresh = 0"
   ]
  },
  {
   "cell_type": "code",
   "execution_count": 16,
   "id": "d0b28937",
   "metadata": {},
   "outputs": [],
   "source": [
    "# contours"
   ]
  },
  {
   "cell_type": "code",
   "execution_count": 17,
   "id": "e1fcdb71",
   "metadata": {},
   "outputs": [],
   "source": [
    "min_area = 0.5*17*17\n",
    "max_area = 2.5*17*17\n",
    "result = gray.copy()"
   ]
  },
  {
   "cell_type": "code",
   "execution_count": 18,
   "id": "de4f8c3f",
   "metadata": {},
   "outputs": [],
   "source": [
    "count =1 \n",
    "image_number = 0\n",
    "ck_box = []\n",
    "answer =[]\n",
    "for c in contours:\n",
    "#     print(c)\n",
    "    area = cv2.contourArea(c)\n",
    "    if area > min_area and area < max_area:\n",
    "        option = ''\n",
    "\n",
    "        count+=1\n",
    "        \n",
    "        cv2.drawContours(result, [c], -1, (0, 0, 255), 1)\n",
    "        x,y,w,h = cv2.boundingRect(c)\n",
    "        ROI = thresh[y:y+h, x:x+w]\n",
    "        if x>=600 and x<=650:\n",
    "            option ='a'\n",
    "        elif x>=670 and x<=700:\n",
    "            option ='b'\n",
    "        elif x>=750 and x<=770:\n",
    "            option ='c'\n",
    "        elif x>=800 and x<=850:\n",
    "            option ='d'\n",
    "        elif x>=870 and x<=890:\n",
    "            option ='e'\n",
    "#         print([x,x+w] , option)\n",
    "        \n",
    "        \n",
    "        ck_box.append([[x,x+w]  ,[ y,y+h] ,option])\n",
    "        t = ( y,y+h)\n",
    "        if y==532:\n",
    "            answer.append({(y+1,y+h+1) : option })\n",
    "        else:\n",
    "            answer.append({(y,y+h) : option })\n",
    "            \n",
    "\n",
    "\n",
    "    \n",
    "        cv2.rectangle(thresh, (x, y), (x + w, y + h), (36,255,12), 2)\n",
    "        image_number += 1\n",
    "        "
   ]
  },
  {
   "cell_type": "code",
   "execution_count": 19,
   "id": "a2c46461",
   "metadata": {},
   "outputs": [],
   "source": [
    "answer.reverse()"
   ]
  },
  {
   "cell_type": "code",
   "execution_count": 20,
   "id": "787a83e7",
   "metadata": {},
   "outputs": [
    {
     "data": {
      "text/plain": [
       "[{(21, 35): 'c'},\n",
       " {(59, 73): 'b'},\n",
       " {(97, 111): 'd'},\n",
       " {(135, 149): 'c'},\n",
       " {(174, 188): 'b'},\n",
       " {(212, 226): 'd'},\n",
       " {(250, 265): 'b'},\n",
       " {(305, 319): 'd'},\n",
       " {(359, 373): 'b'},\n",
       " {(414, 428): 'e'},\n",
       " {(456, 470): 'd'},\n",
       " {(456, 470): 'e'},\n",
       " {(493, 507): 'b'},\n",
       " {(493, 507): 'd'},\n",
       " {(493, 507): 'e'},\n",
       " {(533, 547): 'a'},\n",
       " {(533, 547): 'b'},\n",
       " {(581, 595): 'c'},\n",
       " {(637, 651): 'd'},\n",
       " {(637, 651): 'e'},\n",
       " {(681, 695): 'b'},\n",
       " {(681, 695): 'e'},\n",
       " {(719, 733): 'c'},\n",
       " {(758, 772): 'b'},\n",
       " {(796, 810): 'd'},\n",
       " {(845, 859): 'c'},\n",
       " {(890, 904): 'd'}]"
      ]
     },
     "execution_count": 20,
     "metadata": {},
     "output_type": "execute_result"
    }
   ],
   "source": [
    "answer"
   ]
  },
  {
   "cell_type": "code",
   "execution_count": 21,
   "id": "df480980",
   "metadata": {},
   "outputs": [],
   "source": [
    "def merge_list_of_dictionaries(dict_list):\n",
    "  new_dict = {}\n",
    "  for d in answer:\n",
    "    for d_key in d:\n",
    "      if d_key not in new_dict:\n",
    "        new_dict[d_key] = []\n",
    "      new_dict[d_key].append(d[d_key])\n",
    "  return new_dict"
   ]
  },
  {
   "cell_type": "code",
   "execution_count": 22,
   "id": "1dcd4ed1",
   "metadata": {},
   "outputs": [],
   "source": [
    "final_answer = merge_list_of_dictionaries(answer)"
   ]
  },
  {
   "cell_type": "code",
   "execution_count": 23,
   "id": "101525e4",
   "metadata": {},
   "outputs": [
    {
     "data": {
      "text/plain": [
       "[['c'],\n",
       " ['b'],\n",
       " ['d'],\n",
       " ['c'],\n",
       " ['b'],\n",
       " ['d'],\n",
       " ['b'],\n",
       " ['d'],\n",
       " ['b'],\n",
       " ['e'],\n",
       " ['d', 'e'],\n",
       " ['b', 'd', 'e'],\n",
       " ['a', 'b'],\n",
       " ['c'],\n",
       " ['d', 'e'],\n",
       " ['b', 'e'],\n",
       " ['c'],\n",
       " ['b'],\n",
       " ['d'],\n",
       " ['c'],\n",
       " ['d']]"
      ]
     },
     "execution_count": 23,
     "metadata": {},
     "output_type": "execute_result"
    }
   ],
   "source": [
    "list(final_answer.values())"
   ]
  },
  {
   "cell_type": "code",
   "execution_count": 24,
   "id": "c277132f",
   "metadata": {},
   "outputs": [
    {
     "data": {
      "text/plain": [
       "['1.Ican think of several different ways to deal with a disagreement',\n",
       " '2. Ihave thought about how [ normally respond to conflicts.',\n",
       " '3. [ feel about how I handle most conflicts or disagreements_',\n",
       " '4. The ways to resolve conflicts usually Work for me',\n",
       " '5.Irespond to different disagreements differently',\n",
       " \"6. In an argument; I try to understand the other person' of view:\",\n",
       " '7. When someone is upset with me; Itry to find out why.',\n",
       " '8. If two friends are arguing; I ty to understand both sides of the argument to figure out if someone is arguing just because they re in a bad mood_',\n",
       " '10. Instead of jumping to conclusions to figure out why there $ a disagreement',\n",
       " '11. to understand if a disagreement is caused by & misunderstanding',\n",
       " '12. When I m mad at a friend; [ avoid to him or her.',\n",
       " '13.Itry to find win-win solutions to disagreements_',\n",
       " '14. When I disagree with someone; I talk about how I feel and listen to tem talk about hOW they',\n",
       " '15. When I m involved in a disagreement; I and think about What [ should say or do.',\n",
       " '16.During & disagreement I try to find & compromise',\n",
       " '17.IfIm agry with someone; Itry to calm when we re  talking',\n",
       " '18. to win every argument; even if [ lose friends Over it',\n",
       " '19. When I disagree with someone; I try to talk it through with them:',\n",
       " '20. When I disagree with someone; [ defend my position but I don t put the other person down in the process.',\n",
       " '21. During an argument; I often s2y that I later regret good Ity point Ity- Ity Ity - talking ~feel: stop - stay']"
      ]
     },
     "execution_count": 24,
     "metadata": {},
     "output_type": "execute_result"
    }
   ],
   "source": [
    "Final_question"
   ]
  },
  {
   "cell_type": "code",
   "execution_count": 25,
   "id": "725e6c2b",
   "metadata": {},
   "outputs": [],
   "source": [
    "Ans = []\n",
    "for qus in Final_question:\n",
    "    row = {}\n",
    "    \n",
    "    row[qus.split('.')[0]] = qus.split('.')[1]\n",
    "    row ['Answers']  =  list(final_answer.values())[int(qus.split('.')[0])-1]\n",
    "    Ans.append(row)"
   ]
  },
  {
   "cell_type": "code",
   "execution_count": 26,
   "id": "792cf1de",
   "metadata": {},
   "outputs": [
    {
     "data": {
      "text/plain": [
       "[{'1': 'Ican think of several different ways to deal with a disagreement',\n",
       "  'Answers': ['c']},\n",
       " {'2': ' Ihave thought about how [ normally respond to conflicts',\n",
       "  'Answers': ['b']},\n",
       " {'3': ' [ feel about how I handle most conflicts or disagreements_',\n",
       "  'Answers': ['d']},\n",
       " {'4': ' The ways to resolve conflicts usually Work for me', 'Answers': ['c']},\n",
       " {'5': 'Irespond to different disagreements differently', 'Answers': ['b']},\n",
       " {'6': \" In an argument; I try to understand the other person' of view:\",\n",
       "  'Answers': ['d']},\n",
       " {'7': ' When someone is upset with me; Itry to find out why',\n",
       "  'Answers': ['b']},\n",
       " {'8': ' If two friends are arguing; I ty to understand both sides of the argument to figure out if someone is arguing just because they re in a bad mood_',\n",
       "  'Answers': ['d']},\n",
       " {'10': ' Instead of jumping to conclusions to figure out why there $ a disagreement',\n",
       "  'Answers': ['e']},\n",
       " {'11': ' to understand if a disagreement is caused by & misunderstanding',\n",
       "  'Answers': ['d', 'e']},\n",
       " {'12': ' When I m mad at a friend; [ avoid to him or her',\n",
       "  'Answers': ['b', 'd', 'e']},\n",
       " {'13': 'Itry to find win-win solutions to disagreements_',\n",
       "  'Answers': ['a', 'b']},\n",
       " {'14': ' When I disagree with someone; I talk about how I feel and listen to tem talk about hOW they',\n",
       "  'Answers': ['c']},\n",
       " {'15': ' When I m involved in a disagreement; I and think about What [ should say or do',\n",
       "  'Answers': ['d', 'e']},\n",
       " {'16': 'During & disagreement I try to find & compromise',\n",
       "  'Answers': ['b', 'e']},\n",
       " {'17': 'IfIm agry with someone; Itry to calm when we re  talking',\n",
       "  'Answers': ['c']},\n",
       " {'18': ' to win every argument; even if [ lose friends Over it',\n",
       "  'Answers': ['b']},\n",
       " {'19': ' When I disagree with someone; I try to talk it through with them:',\n",
       "  'Answers': ['d']},\n",
       " {'20': ' When I disagree with someone; [ defend my position but I don t put the other person down in the process',\n",
       "  'Answers': ['c']},\n",
       " {'21': ' During an argument; I often s2y that I later regret good Ity point Ity- Ity Ity - talking ~feel: stop - stay',\n",
       "  'Answers': ['d']}]"
      ]
     },
     "execution_count": 26,
     "metadata": {},
     "output_type": "execute_result"
    }
   ],
   "source": [
    "Ans"
   ]
  },
  {
   "cell_type": "code",
   "execution_count": 6,
   "id": "3503318e",
   "metadata": {},
   "outputs": [
    {
     "name": "stdout",
     "output_type": "stream",
     "text": [
      "Original Dimensions : (2196, 1700, 3)\n",
      "Resized Dimensions : (937, 919, 3)\n"
     ]
    },
    {
     "data": {
      "text/plain": [
       "True"
      ]
     },
     "execution_count": 6,
     "metadata": {},
     "output_type": "execute_result"
    }
   ],
   "source": [
    "import cv2\n",
    "\n",
    "img = cv2.imread('page1.png')\n",
    "\n",
    "# Get original height and width\n",
    "print(f\"Original Dimensions : {img.shape}\")\n",
    "\n",
    "# resize image by specifying custom width and height\n",
    "resized = cv2.resize(img, (919, 937))\n",
    "\n",
    "print(f\"Resized Dimensions : {resized.shape}\")\n",
    "cv2.imwrite('resized_imaged.jpg', resized)"
   ]
  },
  {
   "cell_type": "code",
   "execution_count": null,
   "id": "b2e2b28d",
   "metadata": {},
   "outputs": [],
   "source": []
  }
 ],
 "metadata": {
  "kernelspec": {
   "display_name": "Python 3 (ipykernel)",
   "language": "python",
   "name": "python3"
  },
  "language_info": {
   "codemirror_mode": {
    "name": "ipython",
    "version": 3
   },
   "file_extension": ".py",
   "mimetype": "text/x-python",
   "name": "python",
   "nbconvert_exporter": "python",
   "pygments_lexer": "ipython3",
   "version": "3.8.10"
  }
 },
 "nbformat": 4,
 "nbformat_minor": 5
}
