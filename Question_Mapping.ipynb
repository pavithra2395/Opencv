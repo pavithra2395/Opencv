{
 "cells": [
  {
   "cell_type": "code",
   "execution_count": null,
   "id": "8bee9f0b",
   "metadata": {},
   "outputs": [],
   "source": [
    "\n",
    "#Dependecies\n",
    "!pip install opencv-python\n",
    "!pip install matplotlib\n",
    "!pip install numpy\n",
    "!pip install torch==1.7.1+cpu torchvision==0.8.2+cpu torchaudio===0.7.2 -f https://download.pytorch.org/whl/torch_stable.html\n",
    "!pip install easyocr"
   ]
  },
  {
   "cell_type": "code",
   "execution_count": 1,
   "id": "72eddb62",
   "metadata": {},
   "outputs": [],
   "source": [
    "import cv2\n",
    "import imutils \n",
    "import numpy as np\n",
    "import cv2\n",
    "import numpy as np\n",
    "import easyocr\n",
    "import matplotlib.pyplot as plt\n",
    "%matplotlib inline"
   ]
  },
  {
   "cell_type": "markdown",
   "id": "07d94eb6",
   "metadata": {},
   "source": [
    "# Exctracting Questions"
   ]
  },
  {
   "cell_type": "code",
   "execution_count": 2,
   "id": "eddd6f0e",
   "metadata": {},
   "outputs": [],
   "source": [
    "def recognize_text(img_path):\n",
    "    '''loads an image and recognizes text.'''\n",
    "    \n",
    "    reader = easyocr.Reader(['en'])\n",
    "    return reader.readtext(img_path, detail = 0)"
   ]
  },
  {
   "cell_type": "code",
   "execution_count": 3,
   "id": "e905d432",
   "metadata": {},
   "outputs": [],
   "source": [
    "Question_file = 'QuestionSheet 1.png'\n",
    "Answer_file = 'Answersheet 1.png'"
   ]
  },
  {
   "cell_type": "code",
   "execution_count": 5,
   "id": "bfbcbd5d",
   "metadata": {},
   "outputs": [
    {
     "name": "stderr",
     "output_type": "stream",
     "text": [
      "CUDA not available - defaulting to CPU. Note: This module is much faster with a GPU.\n"
     ]
    },
    {
     "data": {
      "text/plain": [
       "['1.Ican think of several different ways to deal with a disagreement',\n",
       " '2. Ihave thought about how [ normally respond to conflicts.',\n",
       " '3. [ feel',\n",
       " 'about how I handle most conflicts or disagreements_',\n",
       " '4. The ways',\n",
       " 'to resolve conflicts usually Work for me',\n",
       " '5.Irespond to different disagreements differently',\n",
       " \"6. In an argument; I try to understand the other person'\",\n",
       " 'of view:',\n",
       " '7. When someone is upset with me; Itry to find out why.',\n",
       " '8. If two friends are arguing; I ty to understand both sides of the',\n",
       " 'argument',\n",
       " 'to figure out if someone is arguing just because they re in a bad',\n",
       " 'mood_',\n",
       " '10. Instead of jumping to conclusions',\n",
       " 'to figure out why there $ a',\n",
       " 'disagreement',\n",
       " '11.',\n",
       " 'to understand if a disagreement is caused by & misunderstanding',\n",
       " '12. When I m mad at a friend; [ avoid',\n",
       " 'to him or her.',\n",
       " '13.Itry to find win-win solutions to disagreements_',\n",
       " '14. When I disagree with someone; I talk about how I feel and listen to',\n",
       " 'tem talk about hOW they',\n",
       " '15. When I m involved in a disagreement; I',\n",
       " 'and think about What [',\n",
       " 'should say or do.',\n",
       " '16.During & disagreement I try to find & compromise',\n",
       " '17.IfIm agry with someone; Itry to',\n",
       " 'calm when we re',\n",
       " ' talking',\n",
       " '18.',\n",
       " 'to win every argument; even if [ lose friends Over it',\n",
       " '19. When I disagree with someone; I try to talk it through with them:',\n",
       " '20. When I disagree with someone; [ defend my position but I don t put',\n",
       " 'the other person down in the process.',\n",
       " '21. During an argument; I often s2y',\n",
       " 'that I later regret',\n",
       " 'good',\n",
       " 'Ity',\n",
       " 'point',\n",
       " 'Ity-',\n",
       " 'Ity',\n",
       " 'Ity -',\n",
       " 'talking',\n",
       " '~feel:',\n",
       " 'stop -',\n",
       " 'stay',\n",
       " 'Ity',\n",
       " 'thing;']"
      ]
     },
     "execution_count": 5,
     "metadata": {},
     "output_type": "execute_result"
    }
   ],
   "source": [
    "result = recognize_text(Question_file)\n",
    "result"
   ]
  },
  {
   "cell_type": "code",
   "execution_count": 10,
   "id": "428c1ea4",
   "metadata": {},
   "outputs": [],
   "source": [
    "Final_question =[]\n",
    "i =0\n",
    "j =0\n",
    "while (i<len(result)-2):\n",
    "    st = ''\n",
    "    if result[i].split('.')[0].isnumeric():\n",
    "        Final_question.append(result[i])\n",
    "        j=j+1\n",
    "    else:\n",
    "#         print(j)\n",
    "        Final_question[j-1] =Final_question[j-1]+' '+result[i]\n",
    "    i=i+1"
   ]
  },
  {
   "cell_type": "code",
   "execution_count": 11,
   "id": "287b96cd",
   "metadata": {},
   "outputs": [
    {
     "data": {
      "text/plain": [
       "['1.Ican think of several different ways to deal with a disagreement',\n",
       " '2. Ihave thought about how [ normally respond to conflicts.',\n",
       " '3. [ feel about how I handle most conflicts or disagreements_',\n",
       " '4. The ways to resolve conflicts usually Work for me',\n",
       " '5.Irespond to different disagreements differently',\n",
       " \"6. In an argument; I try to understand the other person' of view:\",\n",
       " '7. When someone is upset with me; Itry to find out why.',\n",
       " '8. If two friends are arguing; I ty to understand both sides of the argument to figure out if someone is arguing just because they re in a bad mood_',\n",
       " '10. Instead of jumping to conclusions to figure out why there $ a disagreement',\n",
       " '11. to understand if a disagreement is caused by & misunderstanding',\n",
       " '12. When I m mad at a friend; [ avoid to him or her.',\n",
       " '13.Itry to find win-win solutions to disagreements_',\n",
       " '14. When I disagree with someone; I talk about how I feel and listen to tem talk about hOW they',\n",
       " '15. When I m involved in a disagreement; I and think about What [ should say or do.',\n",
       " '16.During & disagreement I try to find & compromise',\n",
       " '17.IfIm agry with someone; Itry to calm when we re  talking',\n",
       " '18. to win every argument; even if [ lose friends Over it',\n",
       " '19. When I disagree with someone; I try to talk it through with them:',\n",
       " '20. When I disagree with someone; [ defend my position but I don t put the other person down in the process.',\n",
       " '21. During an argument; I often s2y that I later regret good Ity point Ity- Ity Ity - talking ~feel: stop - stay']"
      ]
     },
     "execution_count": 11,
     "metadata": {},
     "output_type": "execute_result"
    }
   ],
   "source": [
    "Final_question"
   ]
  },
  {
   "cell_type": "markdown",
   "id": "0a98a1df",
   "metadata": {},
   "source": [
    "# Extracting Answers"
   ]
  },
  {
   "cell_type": "code",
   "execution_count": 12,
   "id": "c07538bd",
   "metadata": {},
   "outputs": [],
   "source": [
    "img1 = cv2.imread(Question_file)\n",
    "img2 = cv2.imread(Answer_file)\n"
   ]
  },
  {
   "cell_type": "code",
   "execution_count": 13,
   "id": "b2222c36",
   "metadata": {},
   "outputs": [
    {
     "data": {
      "text/plain": [
       "(919, 937, 3)"
      ]
     },
     "execution_count": 13,
     "metadata": {},
     "output_type": "execute_result"
    }
   ],
   "source": [
    "img1.shape"
   ]
  },
  {
   "cell_type": "code",
   "execution_count": 14,
   "id": "b96a0024",
   "metadata": {},
   "outputs": [
    {
     "data": {
      "text/plain": [
       "(919, 937, 3)"
      ]
     },
     "execution_count": 14,
     "metadata": {},
     "output_type": "execute_result"
    }
   ],
   "source": [
    "img2.shape"
   ]
  },
  {
   "cell_type": "code",
   "execution_count": 15,
   "id": "ad2db494",
   "metadata": {},
   "outputs": [
    {
     "data": {
      "text/plain": [
       "True"
      ]
     },
     "execution_count": 15,
     "metadata": {},
     "output_type": "execute_result"
    }
   ],
   "source": [
    "# img1 = cv2.imread(\"checked.png\")\n",
    "# img2 = cv2.imread(\"without select.png\")\n",
    "diff = cv2.absdiff(img1, img2)\n",
    "mask = cv2.cvtColor(diff, cv2.COLOR_BGR2GRAY)\n",
    "th = 1\n",
    "imask =  mask>th\n",
    "\n",
    "result = np.zeros_like(img2, np.uint8)\n",
    "result[imask] = img2[imask]\n",
    "\n",
    "cv2.imwrite(\"result final.png\", diff)\n"
   ]
  },
  {
   "cell_type": "code",
   "execution_count": 16,
   "id": "7d8613e5",
   "metadata": {},
   "outputs": [
    {
     "data": {
      "text/plain": [
       "(919, 937, 3)"
      ]
     },
     "execution_count": 16,
     "metadata": {},
     "output_type": "execute_result"
    }
   ],
   "source": [
    "diff.shape"
   ]
  },
  {
   "cell_type": "code",
   "execution_count": 17,
   "id": "594294a4",
   "metadata": {},
   "outputs": [
    {
     "data": {
      "text/plain": [
       "<matplotlib.image.AxesImage at 0x7f07c7e9aa60>"
      ]
     },
     "execution_count": 17,
     "metadata": {},
     "output_type": "execute_result"
    },
    {
     "data": {
      "image/png": "[encoded data removed]",
      "text/plain": [
       "<Figure size 432x288 with 1 Axes>"
      ]
     },
     "metadata": {
      "needs_background": "light"
     },
     "output_type": "display_data"
    }
   ],
   "source": [
    "img_1 = cv2.cvtColor(diff, cv2.COLOR_BGR2RGB)\n",
    "plt.imshow(img_1)\n"
   ]
  },
  {
   "cell_type": "code",
   "execution_count": 18,
   "id": "0dcb5c79",
   "metadata": {},
   "outputs": [],
   "source": [
    "gray = cv2.cvtColor(diff, cv2.COLOR_BGR2GRAY)\n",
    "thresh = cv2.threshold(gray, 30, 255, cv2.THRESH_BINARY)[1]"
   ]
  },
  {
   "cell_type": "code",
   "execution_count": 19,
   "id": "69d9e130",
   "metadata": {},
   "outputs": [],
   "source": [
    "# find contours and get one with area about 180*35\n",
    "# draw all contours in green and accepted ones in red\n",
    "contours = cv2.findContours(thresh, cv2.RETR_TREE, cv2.CHAIN_APPROX_SIMPLE)\n",
    "contours = contours[0] if len(contours) == 2 else contours[1]\n",
    "#area_thresh = 0"
   ]
  },
  {
   "cell_type": "code",
   "execution_count": 20,
   "id": "d0b28937",
   "metadata": {},
   "outputs": [],
   "source": [
    "# contours"
   ]
  },
  {
   "cell_type": "code",
   "execution_count": 21,
   "id": "e1fcdb71",
   "metadata": {},
   "outputs": [],
   "source": [
    "min_area = 0.5*17*17\n",
    "max_area = 2.5*17*17\n",
    "result = gray.copy()"
   ]
  },
  {
   "cell_type": "code",
   "execution_count": 23,
   "id": "de4f8c3f",
   "metadata": {},
   "outputs": [],
   "source": [
    "count =1 \n",
    "image_number = 0\n",
    "ck_box = []\n",
    "answer =[]\n",
    "for c in contours:\n",
    "#     print(c)\n",
    "    area = cv2.contourArea(c)\n",
    "    if area > min_area and area < max_area:\n",
    "        option = ''\n",
    "\n",
    "        count+=1\n",
    "        \n",
    "        cv2.drawContours(result, [c], -1, (0, 0, 255), 1)\n",
    "        x,y,w,h = cv2.boundingRect(c)\n",
    "        ROI = thresh[y:y+h, x:x+w]\n",
    "        if x>=600 and x<=650:\n",
    "            option ='a'\n",
    "        elif x>=670 and x<=700:\n",
    "            option ='b'\n",
    "        elif x>=750 and x<=770:\n",
    "            option ='c'\n",
    "        elif x>=800 and x<=850:\n",
    "            option ='d'\n",
    "        elif x>=870 and x<=890:\n",
    "            option ='e'\n",
    "#         print([x,x+w] , option)\n",
    "        \n",
    "        \n",
    "        ck_box.append([[x,x+w]  ,[ y,y+h] ,option])\n",
    "        t = ( y,y+h)\n",
    "        if y==532:\n",
    "            answer.append({(y+1,y+h+1) : option })\n",
    "        else:\n",
    "            answer.append({(y,y+h) : option })\n",
    "            \n",
    "\n",
    "\n",
    "    \n",
    "        cv2.rectangle(thresh, (x, y), (x + w, y + h), (36,255,12), 2)\n",
    "        image_number += 1\n",
    "        "
   ]
  },
  {
   "cell_type": "code",
   "execution_count": 24,
   "id": "a2c46461",
   "metadata": {},
   "outputs": [],
   "source": [
    "answer.reverse()"
   ]
  },
  {
   "cell_type": "code",
   "execution_count": 25,
   "id": "787a83e7",
   "metadata": {},
   "outputs": [
    {
     "data": {
      "text/plain": [
       "[{(21, 35): 'c'},\n",
       " {(59, 73): 'b'},\n",
       " {(97, 111): 'd'},\n",
       " {(135, 149): 'c'},\n",
       " {(174, 188): 'b'},\n",
       " {(212, 226): 'd'},\n",
       " {(250, 265): 'b'},\n",
       " {(305, 319): 'd'},\n",
       " {(359, 373): 'b'},\n",
       " {(414, 428): 'e'},\n",
       " {(456, 470): 'd'},\n",
       " {(456, 470): 'e'},\n",
       " {(493, 507): 'b'},\n",
       " {(493, 507): 'd'},\n",
       " {(493, 507): 'e'},\n",
       " {(533, 547): 'a'},\n",
       " {(533, 547): 'b'},\n",
       " {(581, 595): 'c'},\n",
       " {(637, 651): 'd'},\n",
       " {(637, 651): 'e'},\n",
       " {(681, 695): 'b'},\n",
       " {(681, 695): 'e'},\n",
       " {(719, 733): 'c'},\n",
       " {(758, 772): 'b'},\n",
       " {(796, 810): 'd'},\n",
       " {(845, 859): 'c'},\n",
       " {(890, 904): 'd'}]"
      ]
     },
     "execution_count": 25,
     "metadata": {},
     "output_type": "execute_result"
    }
   ],
   "source": [
    "answer"
   ]
  },
  {
   "cell_type": "code",
   "execution_count": 26,
   "id": "df480980",
   "metadata": {},
   "outputs": [],
   "source": [
    "def merge_list_of_dictionaries(dict_list):\n",
    "  new_dict = {}\n",
    "  for d in answer:\n",
    "    for d_key in d:\n",
    "      if d_key not in new_dict:\n",
    "        new_dict[d_key] = []\n",
    "      new_dict[d_key].append(d[d_key])\n",
    "  return new_dict"
   ]
  },
  {
   "cell_type": "code",
   "execution_count": 27,
   "id": "1dcd4ed1",
   "metadata": {},
   "outputs": [],
   "source": [
    "final_answer = merge_list_of_dictionaries(answer)"
   ]
  },
  {
   "cell_type": "code",
   "execution_count": 28,
   "id": "101525e4",
   "metadata": {},
   "outputs": [
    {
     "data": {
      "text/plain": [
       "[['c'],\n",
       " ['b'],\n",
       " ['d'],\n",
       " ['c'],\n",
       " ['b'],\n",
       " ['d'],\n",
       " ['b'],\n",
       " ['d'],\n",
       " ['b'],\n",
       " ['e'],\n",
       " ['d', 'e'],\n",
       " ['b', 'd', 'e'],\n",
       " ['a', 'b'],\n",
       " ['c'],\n",
       " ['d', 'e'],\n",
       " ['b', 'e'],\n",
       " ['c'],\n",
       " ['b'],\n",
       " ['d'],\n",
       " ['c'],\n",
       " ['d']]"
      ]
     },
     "execution_count": 28,
     "metadata": {},
     "output_type": "execute_result"
    }
   ],
   "source": [
    "list(final_answer.values())"
   ]
  },
  {
   "cell_type": "code",
   "execution_count": 29,
   "id": "c277132f",
   "metadata": {},
   "outputs": [
    {
     "data": {
      "text/plain": [
       "['1.Ican think of several different ways to deal with a disagreement',\n",
       " '2. Ihave thought about how [ normally respond to conflicts.',\n",
       " '3. [ feel about how I handle most conflicts or disagreements_',\n",
       " '4. The ways to resolve conflicts usually Work for me',\n",
       " '5.Irespond to different disagreements differently',\n",
       " \"6. In an argument; I try to understand the other person' of view:\",\n",
       " '7. When someone is upset with me; Itry to find out why.',\n",
       " '8. If two friends are arguing; I ty to understand both sides of the argument to figure out if someone is arguing just because they re in a bad mood_',\n",
       " '10. Instead of jumping to conclusions to figure out why there $ a disagreement',\n",
       " '11. to understand if a disagreement is caused by & misunderstanding',\n",
       " '12. When I m mad at a friend; [ avoid to him or her.',\n",
       " '13.Itry to find win-win solutions to disagreements_',\n",
       " '14. When I disagree with someone; I talk about how I feel and listen to tem talk about hOW they',\n",
       " '15. When I m involved in a disagreement; I and think about What [ should say or do.',\n",
       " '16.During & disagreement I try to find & compromise',\n",
       " '17.IfIm agry with someone; Itry to calm when we re  talking',\n",
       " '18. to win every argument; even if [ lose friends Over it',\n",
       " '19. When I disagree with someone; I try to talk it through with them:',\n",
       " '20. When I disagree with someone; [ defend my position but I don t put the other person down in the process.',\n",
       " '21. During an argument; I often s2y that I later regret good Ity point Ity- Ity Ity - talking ~feel: stop - stay']"
      ]
     },
     "execution_count": 29,
     "metadata": {},
     "output_type": "execute_result"
    }
   ],
   "source": [
    "Final_question"
   ]
  },
  {
   "cell_type": "code",
   "execution_count": 30,
   "id": "725e6c2b",
   "metadata": {},
   "outputs": [],
   "source": [
    "Ans = []\n",
    "for qus in Final_question:\n",
    "    row = {}\n",
    "    \n",
    "    row[qus.split('.')[0]] = qus.split('.')[1]\n",
    "    row ['Answers']  =  list(final_answer.values())[int(qus.split('.')[0])-1]\n",
    "    Ans.append(row)"
   ]
  },
  {
   "cell_type": "code",
   "execution_count": 31,
   "id": "792cf1de",
   "metadata": {},
   "outputs": [
    {
     "data": {
      "text/plain": [
       "[{'1': 'Ican think of several different ways to deal with a disagreement',\n",
       "  'Answers': ['c']},\n",
       " {'2': ' Ihave thought about how [ normally respond to conflicts',\n",
       "  'Answers': ['b']},\n",
       " {'3': ' [ feel about how I handle most conflicts or disagreements_',\n",
       "  'Answers': ['d']},\n",
       " {'4': ' The ways to resolve conflicts usually Work for me', 'Answers': ['c']},\n",
       " {'5': 'Irespond to different disagreements differently', 'Answers': ['b']},\n",
       " {'6': \" In an argument; I try to understand the other person' of view:\",\n",
       "  'Answers': ['d']},\n",
       " {'7': ' When someone is upset with me; Itry to find out why',\n",
       "  'Answers': ['b']},\n",
       " {'8': ' If two friends are arguing; I ty to understand both sides of the argument to figure out if someone is arguing just because they re in a bad mood_',\n",
       "  'Answers': ['d']},\n",
       " {'10': ' Instead of jumping to conclusions to figure out why there $ a disagreement',\n",
       "  'Answers': ['e']},\n",
       " {'11': ' to understand if a disagreement is caused by & misunderstanding',\n",
       "  'Answers': ['d', 'e']},\n",
       " {'12': ' When I m mad at a friend; [ avoid to him or her',\n",
       "  'Answers': ['b', 'd', 'e']},\n",
       " {'13': 'Itry to find win-win solutions to disagreements_',\n",
       "  'Answers': ['a', 'b']},\n",
       " {'14': ' When I disagree with someone; I talk about how I feel and listen to tem talk about hOW they',\n",
       "  'Answers': ['c']},\n",
       " {'15': ' When I m involved in a disagreement; I and think about What [ should say or do',\n",
       "  'Answers': ['d', 'e']},\n",
       " {'16': 'During & disagreement I try to find & compromise',\n",
       "  'Answers': ['b', 'e']},\n",
       " {'17': 'IfIm agry with someone; Itry to calm when we re  talking',\n",
       "  'Answers': ['c']},\n",
       " {'18': ' to win every argument; even if [ lose friends Over it',\n",
       "  'Answers': ['b']},\n",
       " {'19': ' When I disagree with someone; I try to talk it through with them:',\n",
       "  'Answers': ['d']},\n",
       " {'20': ' When I disagree with someone; [ defend my position but I don t put the other person down in the process',\n",
       "  'Answers': ['c']},\n",
       " {'21': ' During an argument; I often s2y that I later regret good Ity point Ity- Ity Ity - talking ~feel: stop - stay',\n",
       "  'Answers': ['d']}]"
      ]
     },
     "execution_count": 31,
     "metadata": {},
     "output_type": "execute_result"
    }
   ],
   "source": [
    "Ans"
   ]
  },
  {
   "cell_type": "code",
   "execution_count": null,
   "id": "3503318e",
   "metadata": {},
   "outputs": [],
   "source": []
  }
 ],
 "metadata": {
  "kernelspec": {
   "display_name": "Python 3 (ipykernel)",
   "language": "python",
   "name": "python3"
  },
  "language_info": {
   "codemirror_mode": {
    "name": "ipython",
    "version": 3
   },
   "file_extension": ".py",
   "mimetype": "text/x-python",
   "name": "python",
   "nbconvert_exporter": "python",
   "pygments_lexer": "ipython3",
   "version": "3.9.7"
  }
 },
 "nbformat": 4,
 "nbformat_minor": 5
}
